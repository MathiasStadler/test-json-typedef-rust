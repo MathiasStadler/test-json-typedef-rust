{
 "cells": [
  {
   "cell_type": "markdown",
   "metadata": {},
   "source": [
    "# [Main codegen](https://github.com/jsontypedef/json-typedef-codegen)\n",
    "\n",
    "# [FROM HERE](https://jsontypedef.com/docs/rust-codegen/)\n",
    "\n",
    "# [SRC FROM HERE](https://github.com/jsontypedef/json-typedef-rust)"
   ]
  },
  {
   "cell_type": "markdown",
   "metadata": {},
   "source": [
    "# download jtd-codegen\n",
    "\n",
    "```bash\n",
    "wget -o ~/x86_64-unknown-linux-gnu.zip https://github.com/jsontypedef/json-typedef-codegen/releases/download/v0.4.1/x86_64-unknown-linux-gnu.zip\n",
    "\n",
    "\n",
    "unzip ~/x86_64-unknown-linux-gnu.zip\n",
    "\n",
    "\n",
    "```"
   ]
  },
  {
   "cell_type": "markdown",
   "metadata": {},
   "source": [
    "# PLAN test autogenerate struct structure from json (file)"
   ]
  },
  {
   "cell_type": "markdown",
   "metadata": {},
   "source": [
    "# clone json-typedef-rust\n",
    "\n",
    "```bash\n",
    "cd # goto home dir of user\n",
    "df -h # check  enough space is free\n",
    "git clone https://github.com/jsontypedef/json-typedef-rust.git # clone itself\n",
    "cd json-typedef-rust\n",
    "```"
   ]
  },
  {
   "cell_type": "markdown",
   "metadata": {},
   "source": [
    "## Usage cli\n",
    "jtd-codegen user.jtd.json --rust -out user\n"
   ]
  },
  {
   "cell_type": "markdown",
   "metadata": {},
   "source": [
    "# easy first example\n",
    "\n",
    "```bash\n",
    "~/Downloads/jtd-codegen ./schemas/user.jtd.json --rust-out /tmp\n",
    "```"
   ]
  },
  {
   "cell_type": "markdown",
   "metadata": {},
   "source": [
    "# RUN \n",
    "\n",
    "~/Downloads/jtd-codegen ./schemas/user.jtd.json --rust-out ./output/"
   ]
  },
  {
   "cell_type": "code",
   "execution_count": null,
   "metadata": {},
   "outputs": [],
   "source": []
  },
  {
   "cell_type": "markdown",
   "metadata": {},
   "source": [
    "# next download in user with wget\n",
    "# simple example with struct deserializes and serialise\n"
   ]
  }
 ],
 "metadata": {
  "kernelspec": {
   "display_name": "Rust",
   "language": "rust",
   "name": "rust"
  },
  "language_info": {
   "name": "rust"
  }
 },
 "nbformat": 4,
 "nbformat_minor": 2
}
